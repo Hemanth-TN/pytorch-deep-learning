{
  "cells": [
    {
      "cell_type": "markdown",
      "metadata": {
        "id": "AzDBM_v4iMe7"
      },
      "source": [
        "# 00. PyTorch Fundamentals Exercises\n",
        "\n",
        "### 1. Documentation reading \n",
        "\n",
        "A big part of deep learning (and learning to code in general) is getting familiar with the documentation of a certain framework you're using. We'll be using the PyTorch documentation a lot throughout the rest of this course. So I'd recommend spending 10-minutes reading the following (it's okay if you don't get some things for now, the focus is not yet full understanding, it's awareness):\n",
        "  * The documentation on [`torch.Tensor`](https://pytorch.org/docs/stable/tensors.html#torch-tensor).\n",
        "  * The documentation on [`torch.cuda`](https://pytorch.org/docs/master/notes/cuda.html#cuda-semantics).\n",
        "\n"
      ]
    },
    {
      "cell_type": "code",
      "execution_count": 252,
      "metadata": {
        "id": "bGD0oD8Kizak"
      },
      "outputs": [],
      "source": [
        "# No code solution (reading)\n",
        "import torch"
      ]
    },
    {
      "cell_type": "code",
      "execution_count": 253,
      "metadata": {},
      "outputs": [],
      "source": [
        "x = torch.tensor([[1.0,-1],[1,1]], requires_grad=True, device='cpu')"
      ]
    },
    {
      "cell_type": "code",
      "execution_count": 254,
      "metadata": {},
      "outputs": [],
      "source": [
        "out = x.pow(2).sum()"
      ]
    },
    {
      "cell_type": "code",
      "execution_count": 255,
      "metadata": {},
      "outputs": [
        {
          "data": {
            "text/plain": [
              "tensor(4., grad_fn=<SumBackward0>)"
            ]
          },
          "execution_count": 255,
          "metadata": {},
          "output_type": "execute_result"
        }
      ],
      "source": [
        "out"
      ]
    },
    {
      "cell_type": "code",
      "execution_count": 256,
      "metadata": {},
      "outputs": [],
      "source": [
        "out.backward()"
      ]
    },
    {
      "cell_type": "code",
      "execution_count": 257,
      "metadata": {},
      "outputs": [
        {
          "data": {
            "text/plain": [
              "tensor([[ 2., -2.],\n",
              "        [ 2.,  2.]])"
            ]
          },
          "execution_count": 257,
          "metadata": {},
          "output_type": "execute_result"
        }
      ],
      "source": [
        "x.grad"
      ]
    },
    {
      "cell_type": "code",
      "execution_count": 258,
      "metadata": {},
      "outputs": [
        {
          "data": {
            "text/plain": [
              "tensor([[ 2., -2.],\n",
              "        [ 2.,  2.]])"
            ]
          },
          "execution_count": 258,
          "metadata": {},
          "output_type": "execute_result"
        }
      ],
      "source": [
        "x.grad"
      ]
    },
    {
      "cell_type": "markdown",
      "metadata": {
        "id": "__iXqqz-ioUJ"
      },
      "source": [
        "### 2. Create a random tensor with shape `(7, 7)`.\n"
      ]
    },
    {
      "cell_type": "code",
      "execution_count": 259,
      "metadata": {
        "id": "6pUq9Dc8i2L7"
      },
      "outputs": [],
      "source": [
        "# Import torch\n",
        "\n",
        "import torch\n",
        "# Create random tensor\n",
        "torch.manual_seed(42)\n",
        "mat_2 = torch.rand(size=(7,7))\n"
      ]
    },
    {
      "cell_type": "code",
      "execution_count": 260,
      "metadata": {},
      "outputs": [],
      "source": [
        "import numpy as np"
      ]
    },
    {
      "cell_type": "code",
      "execution_count": 261,
      "metadata": {},
      "outputs": [
        {
          "data": {
            "text/plain": [
              "array([[0.37454012, 0.95071431, 0.73199394],\n",
              "       [0.59865848, 0.15601864, 0.15599452],\n",
              "       [0.05808361, 0.86617615, 0.60111501]])"
            ]
          },
          "execution_count": 261,
          "metadata": {},
          "output_type": "execute_result"
        }
      ],
      "source": [
        "np.random.seed(42)\n",
        "np.random.rand(3,3)"
      ]
    },
    {
      "cell_type": "markdown",
      "metadata": {
        "id": "9-XxvRLfiqkR"
      },
      "source": [
        "### 3. Perform a matrix multiplication on the tensor from 2 with another random tensor with shape `(1, 7)` (hint: you may have to transpose the second tensor)."
      ]
    },
    {
      "cell_type": "code",
      "execution_count": 262,
      "metadata": {
        "id": "NcLqR0Sbi_vT"
      },
      "outputs": [],
      "source": [
        "# Create another random tensor\n",
        "mat_3 = torch.rand(size=(1,7))\n"
      ]
    },
    {
      "cell_type": "code",
      "execution_count": 263,
      "metadata": {},
      "outputs": [],
      "source": [
        "# Perform matrix multiplication \n",
        "res = torch.mm(mat_2, mat_3.T)"
      ]
    },
    {
      "cell_type": "code",
      "execution_count": 264,
      "metadata": {},
      "outputs": [
        {
          "data": {
            "text/plain": [
              "tensor([[1.3299],\n",
              "        [1.8111],\n",
              "        [1.3228],\n",
              "        [0.9725],\n",
              "        [1.8285],\n",
              "        [1.4806],\n",
              "        [2.0489]])"
            ]
          },
          "execution_count": 264,
          "metadata": {},
          "output_type": "execute_result"
        }
      ],
      "source": [
        "res"
      ]
    },
    {
      "cell_type": "code",
      "execution_count": 265,
      "metadata": {},
      "outputs": [],
      "source": [
        "mat_1 = torch.ones(size=(7,7))\n",
        "mat_2 = torch.ones(size=(1,7))*3"
      ]
    },
    {
      "cell_type": "code",
      "execution_count": 266,
      "metadata": {},
      "outputs": [
        {
          "data": {
            "text/plain": [
              "tensor([[1., 1., 1., 1., 1., 1., 1.],\n",
              "        [1., 1., 1., 1., 1., 1., 1.],\n",
              "        [1., 1., 1., 1., 1., 1., 1.],\n",
              "        [1., 1., 1., 1., 1., 1., 1.],\n",
              "        [1., 1., 1., 1., 1., 1., 1.],\n",
              "        [1., 1., 1., 1., 1., 1., 1.],\n",
              "        [1., 1., 1., 1., 1., 1., 1.]])"
            ]
          },
          "execution_count": 266,
          "metadata": {},
          "output_type": "execute_result"
        }
      ],
      "source": [
        "mat_1"
      ]
    },
    {
      "cell_type": "code",
      "execution_count": 267,
      "metadata": {},
      "outputs": [
        {
          "data": {
            "text/plain": [
              "tensor([[3., 3., 3., 3., 3., 3., 3.]])"
            ]
          },
          "execution_count": 267,
          "metadata": {},
          "output_type": "execute_result"
        }
      ],
      "source": [
        "mat_2"
      ]
    },
    {
      "cell_type": "code",
      "execution_count": 268,
      "metadata": {},
      "outputs": [
        {
          "data": {
            "text/plain": [
              "tensor([[3., 3., 3., 3., 3., 3., 3.],\n",
              "        [3., 3., 3., 3., 3., 3., 3.],\n",
              "        [3., 3., 3., 3., 3., 3., 3.],\n",
              "        [3., 3., 3., 3., 3., 3., 3.],\n",
              "        [3., 3., 3., 3., 3., 3., 3.],\n",
              "        [3., 3., 3., 3., 3., 3., 3.],\n",
              "        [3., 3., 3., 3., 3., 3., 3.]])"
            ]
          },
          "execution_count": 268,
          "metadata": {},
          "output_type": "execute_result"
        }
      ],
      "source": [
        "mat_1 * mat_2.T"
      ]
    },
    {
      "cell_type": "markdown",
      "metadata": {
        "id": "eiutdKUFiryU"
      },
      "source": [
        "### 4. Set the random seed to `0` and do 2 & 3 over again.\n",
        "\n",
        "The output should be:\n",
        "```\n",
        "(tensor([[1.8542],\n",
        "         [1.9611],\n",
        "         [2.2884],\n",
        "         [3.0481],\n",
        "         [1.7067],\n",
        "         [2.5290],\n",
        "         [1.7989]]), torch.Size([7, 1]))\n",
        "```"
      ]
    },
    {
      "cell_type": "code",
      "execution_count": 269,
      "metadata": {
        "id": "D-lOWI_1jRMm"
      },
      "outputs": [
        {
          "data": {
            "text/plain": [
              "tensor([[1.8542],\n",
              "        [1.9611],\n",
              "        [2.2884],\n",
              "        [3.0481],\n",
              "        [1.7067],\n",
              "        [2.5290],\n",
              "        [1.7989]])"
            ]
          },
          "execution_count": 269,
          "metadata": {},
          "output_type": "execute_result"
        }
      ],
      "source": [
        "# Set manual seed\n",
        "torch.manual_seed(0)\n",
        "\n",
        "# Create two random tensors\n",
        "mat_a = torch.rand(size=(7,7))\n",
        "mat_b = torch.rand(size=(1,7))\n",
        "\n",
        "# Matrix multiply tensors\n",
        "res = torch.mm(mat_a, mat_b.T)\n",
        "res\n"
      ]
    },
    {
      "cell_type": "markdown",
      "metadata": {
        "id": "ezY6ks9Cis37"
      },
      "source": [
        "### 5. Speaking of random seeds, we saw how to set it with `torch.manual_seed()` but is there a GPU equivalent? (hint: you'll need to look into the documentation for `torch.cuda` for this one)\n",
        "  * If there is, set the GPU random seed to `1234`."
      ]
    },
    {
      "cell_type": "code",
      "execution_count": 270,
      "metadata": {
        "id": "_LKWcfSTjp00"
      },
      "outputs": [],
      "source": [
        "# Set random seed on the GPU\n",
        "torch.cuda.manual_seed(1234)"
      ]
    },
    {
      "cell_type": "markdown",
      "metadata": {
        "id": "Ir9qSaj6it4n"
      },
      "source": [
        "\n",
        "### 6. Create two random tensors of shape `(2, 3)` and send them both to the GPU (you'll need access to a GPU for this). Set `torch.manual_seed(1234)` when creating the tensors (this doesn't have to be the GPU random seed). The output should be something like:\n",
        "\n",
        "```\n",
        "Device: cuda\n",
        "(tensor([[0.0290, 0.4019, 0.2598],\n",
        "         [0.3666, 0.0583, 0.7006]], device='cuda:0'),\n",
        " tensor([[0.0518, 0.4681, 0.6738],\n",
        "         [0.3315, 0.7837, 0.5631]], device='cuda:0'))\n",
        "```"
      ]
    },
    {
      "cell_type": "code",
      "execution_count": 271,
      "metadata": {
        "id": "azXExiFZj5nm"
      },
      "outputs": [
        {
          "name": "stdout",
          "output_type": "stream",
          "text": [
            "True\n"
          ]
        }
      ],
      "source": [
        "# Set random seed\n",
        "torch.manual_seed(1234)\n",
        "\n",
        "# Check for access to GPU\n",
        "print(torch.cuda.is_available())\n",
        "# Create two random tensors on GPU\n",
        "mat_a = torch.rand(size=(2,3), device='cuda')\n",
        "mat_b = torch.rand(size=(2,3), device='cuda')\n"
      ]
    },
    {
      "cell_type": "code",
      "execution_count": null,
      "metadata": {},
      "outputs": [
        {
          "data": {
            "text/plain": [
              "7626"
            ]
          },
          "execution_count": 285,
          "metadata": {},
          "output_type": "execute_result"
        }
      ],
      "source": [
        "sum(list(range(100)))"
      ]
    },
    {
      "cell_type": "code",
      "execution_count": 286,
      "metadata": {},
      "outputs": [],
      "source": [
        "import statistics"
      ]
    },
    {
      "cell_type": "code",
      "execution_count": 272,
      "metadata": {},
      "outputs": [
        {
          "data": {
            "text/plain": [
              "(tensor([[0.1272, 0.8167, 0.5440],\n",
              "         [0.6601, 0.2721, 0.9737]], device='cuda:0'),\n",
              " tensor([[0.6208, 0.0276, 0.3255],\n",
              "         [0.1114, 0.6812, 0.3608]], device='cuda:0'))"
            ]
          },
          "execution_count": 272,
          "metadata": {},
          "output_type": "execute_result"
        }
      ],
      "source": [
        "mat_a, mat_b"
      ]
    },
    {
      "cell_type": "code",
      "execution_count": null,
      "metadata": {},
      "outputs": [
        {
          "name": "stdout",
          "output_type": "stream",
          "text": [
            "tensor([[0.1272, 0.8167, 0.5440],\n",
            "        [0.6601, 0.2721, 0.9737]], device='cuda:0') tensor([[0.6208, 0.0276, 0.3255],\n",
            "        [0.1114, 0.6812, 0.3608]], device='cuda:0')\n"
          ]
        }
      ],
      "source": [
        "# import torch\n",
        "\n",
        "# # Ensure full reproducibility\n",
        "# torch.manual_seed(1234)                 # Set seed for CPU\n",
        "# torch.cuda.manual_seed(1234)             # Set seed for current GPU\n",
        "# torch.cuda.manual_seed_all(1234)         # Set seed for all GPUs (if using multi-GPU)\n",
        "# torch.backends.cudnn.deterministic = True  # Force deterministic CUDA behavior\n",
        "# torch.backends.cudnn.benchmark = False  \n",
        "\n",
        "# # Create random tensors on GPU\n",
        "# mat_a = torch.rand(size=(2,3), device='cuda')\n",
        "# mat_b = torch.rand(size=(2,3), device='cuda')\n",
        "\n",
        "print(mat_a, mat_b)"
      ]
    },
    {
      "cell_type": "markdown",
      "metadata": {
        "id": "5TlAxeiSiu1y"
      },
      "source": [
        "\n",
        "### 7. Perform a matrix multiplication on the tensors you created in 6 (again, you may have to adjust the shapes of one of the tensors).\n",
        "\n",
        "The output should look like:\n",
        "```\n",
        "(tensor([[0.3647, 0.4709],\n",
        "         [0.5184, 0.5617]], device='cuda:0'), torch.Size([2, 2]))\n",
        "```"
      ]
    },
    {
      "cell_type": "code",
      "execution_count": 277,
      "metadata": {
        "id": "fAeG7ox0lHEO"
      },
      "outputs": [
        {
          "data": {
            "text/plain": [
              "tensor([[0.2786, 0.7668],\n",
              "        [0.7343, 0.6102]], device='cuda:0')"
            ]
          },
          "execution_count": 277,
          "metadata": {},
          "output_type": "execute_result"
        }
      ],
      "source": [
        "# Perform matmul on tensor_A and tensor_B\n",
        "res_7 = torch.matmul(mat_a, mat_b.T)\n",
        "res_7"
      ]
    },
    {
      "cell_type": "markdown",
      "metadata": {
        "id": "G7qfa5CSivwg"
      },
      "source": [
        "### 8. Find the maximum and minimum values of the output of 7."
      ]
    },
    {
      "cell_type": "code",
      "execution_count": 276,
      "metadata": {
        "id": "Fu8_3mZpllOd"
      },
      "outputs": [
        {
          "name": "stdout",
          "output_type": "stream",
          "text": [
            "max 0.7667766809463501\n",
            "min 0.27863210439682007\n"
          ]
        }
      ],
      "source": [
        "# Find max\n",
        "print('max' , torch.max(res_7).item())\n",
        "# Find min\n",
        "print('min', torch.min(res_7).item())\n"
      ]
    },
    {
      "cell_type": "code",
      "execution_count": 279,
      "metadata": {},
      "outputs": [
        {
          "data": {
            "text/plain": [
              "tensor(0.7668, device='cuda:0')"
            ]
          },
          "execution_count": 279,
          "metadata": {},
          "output_type": "execute_result"
        }
      ],
      "source": [
        "torch.max(res_7)"
      ]
    },
    {
      "cell_type": "markdown",
      "metadata": {
        "id": "wrTj5FgNiw47"
      },
      "source": [
        "### 9. Find the maximum and minimum index values of the output of 7."
      ]
    },
    {
      "cell_type": "code",
      "execution_count": 282,
      "metadata": {
        "id": "CCEKt4K2lsfQ"
      },
      "outputs": [
        {
          "name": "stdout",
          "output_type": "stream",
          "text": [
            "index_max  1\n",
            "index_min 0\n"
          ]
        }
      ],
      "source": [
        "# Find arg max\n",
        "print('index_max ', torch.argmax(res_7).item())\n",
        "\n",
        "# Find arg min\n",
        "print('index_min', torch.argmin(res_7).item())\n"
      ]
    },
    {
      "cell_type": "markdown",
      "metadata": {
        "id": "hmeybz4uixy7"
      },
      "source": [
        "\n",
        "### 10. Make a random tensor with shape `(1, 1, 1, 10)` and then create a new tensor with all the `1` dimensions removed to be left with a tensor of shape `(10)`. Set the seed to `7` when you create it and print out the first tensor and it's shape as well as the second tensor and it's shape.\n",
        "\n",
        "The output should look like:\n",
        "\n",
        "```\n",
        "tensor([[[[0.5349, 0.1988, 0.6592, 0.6569, 0.2328, 0.4251, 0.2071, 0.6297,\n",
        "           0.3653, 0.8513]]]]) torch.Size([1, 1, 1, 10])\n",
        "tensor([0.5349, 0.1988, 0.6592, 0.6569, 0.2328, 0.4251, 0.2071, 0.6297, 0.3653,\n",
        "        0.8513]) torch.Size([10])\n",
        "```"
      ]
    },
    {
      "cell_type": "code",
      "execution_count": 284,
      "metadata": {
        "id": "TQ9zbRzVl1jV"
      },
      "outputs": [
        {
          "name": "stdout",
          "output_type": "stream",
          "text": [
            "torch.Size([10])\n",
            "original tensor\n",
            " tensor([[[[0.5349, 0.1988, 0.6592, 0.6569, 0.2328, 0.4251, 0.2071, 0.6297,\n",
            "           0.3653, 0.8513]]]])\n",
            "shape of original tensor:  torch.Size([1, 1, 1, 10])\n",
            "Squeezed tensor\n",
            " tensor([0.5349, 0.1988, 0.6592, 0.6569, 0.2328, 0.4251, 0.2071, 0.6297, 0.3653,\n",
            "        0.8513])\n",
            "shape of squeezed tensor:  torch.Size([10])\n"
          ]
        }
      ],
      "source": [
        "# Set seed\n",
        "torch.manual_seed(7)\n",
        "torch.cuda.manual_seed(7)\n",
        "\n",
        "# Create random tensor\n",
        "random_tensor = torch.rand(size=(1,1,1,10))\n",
        "\n",
        "# Remove single dimensions\n",
        "random_tensor_squeezed = random_tensor.squeeze()\n",
        "print(random_tensor_squeezed.size())\n",
        "\n",
        "# Print out tensors and their shapes\n",
        "print(\"original tensor\\n\", random_tensor)\n",
        "print(\"shape of original tensor: \", random_tensor.size())\n",
        "\n",
        "\n",
        "print(\"Squeezed tensor\\n\", random_tensor_squeezed)\n",
        "print(\"shape of squeezed tensor: \", random_tensor_squeezed.size())\n"
      ]
    },
    {
      "cell_type": "code",
      "execution_count": 287,
      "metadata": {},
      "outputs": [],
      "source": [
        "import statistics"
      ]
    },
    {
      "cell_type": "code",
      "execution_count": 296,
      "metadata": {},
      "outputs": [
        {
          "data": {
            "text/plain": [
              "array([32, 48, 48, 24, 34])"
            ]
          },
          "execution_count": 296,
          "metadata": {},
          "output_type": "execute_result"
        }
      ],
      "source": [
        "np.random.randint(5,50,5)"
      ]
    },
    {
      "cell_type": "code",
      "execution_count": 306,
      "metadata": {},
      "outputs": [],
      "source": [
        "a = list(np.random.randint(low=5, high=50, size=(50)).astype(float))"
      ]
    },
    {
      "cell_type": "code",
      "execution_count": 307,
      "metadata": {},
      "outputs": [
        {
          "data": {
            "text/plain": [
              "[28.0,\n",
              " 9.0,\n",
              " 38.0,\n",
              " 10.0,\n",
              " 26.0,\n",
              " 15.0,\n",
              " 20.0,\n",
              " 37.0,\n",
              " 13.0,\n",
              " 10.0,\n",
              " 20.0,\n",
              " 33.0,\n",
              " 7.0,\n",
              " 24.0,\n",
              " 40.0,\n",
              " 23.0,\n",
              " 30.0,\n",
              " 7.0,\n",
              " 23.0,\n",
              " 24.0,\n",
              " 36.0,\n",
              " 11.0,\n",
              " 45.0,\n",
              " 37.0,\n",
              " 44.0,\n",
              " 43.0,\n",
              " 22.0,\n",
              " 44.0,\n",
              " 5.0,\n",
              " 15.0,\n",
              " 32.0,\n",
              " 29.0,\n",
              " 27.0,\n",
              " 35.0,\n",
              " 34.0,\n",
              " 46.0,\n",
              " 39.0,\n",
              " 11.0,\n",
              " 20.0,\n",
              " 30.0,\n",
              " 6.0,\n",
              " 5.0,\n",
              " 16.0,\n",
              " 9.0,\n",
              " 41.0,\n",
              " 36.0,\n",
              " 13.0,\n",
              " 45.0,\n",
              " 39.0,\n",
              " 23.0]"
            ]
          },
          "execution_count": 307,
          "metadata": {},
          "output_type": "execute_result"
        }
      ],
      "source": [
        "a"
      ]
    },
    {
      "cell_type": "code",
      "execution_count": 308,
      "metadata": {},
      "outputs": [
        {
          "data": {
            "text/plain": [
              "25.5"
            ]
          },
          "execution_count": 308,
          "metadata": {},
          "output_type": "execute_result"
        }
      ],
      "source": [
        "statistics.mean(a)"
      ]
    },
    {
      "cell_type": "code",
      "execution_count": 309,
      "metadata": {},
      "outputs": [
        {
          "data": {
            "text/plain": [
              "20.0"
            ]
          },
          "execution_count": 309,
          "metadata": {},
          "output_type": "execute_result"
        }
      ],
      "source": [
        "statistics.mode(a)"
      ]
    },
    {
      "cell_type": "code",
      "execution_count": 310,
      "metadata": {},
      "outputs": [
        {
          "data": {
            "text/plain": [
              "25.0"
            ]
          },
          "execution_count": 310,
          "metadata": {},
          "output_type": "execute_result"
        }
      ],
      "source": [
        "statistics.median(a)"
      ]
    },
    {
      "cell_type": "code",
      "execution_count": 311,
      "metadata": {},
      "outputs": [
        {
          "data": {
            "text/plain": [
              "12.817796938918441"
            ]
          },
          "execution_count": 311,
          "metadata": {},
          "output_type": "execute_result"
        }
      ],
      "source": [
        "statistics.stdev(data=a)"
      ]
    },
    {
      "cell_type": "code",
      "execution_count": 312,
      "metadata": {},
      "outputs": [
        {
          "data": {
            "text/plain": [
              "[13.0, 25.0, 37.0]"
            ]
          },
          "execution_count": 312,
          "metadata": {},
          "output_type": "execute_result"
        }
      ],
      "source": [
        "statistics.quantiles(a)"
      ]
    },
    {
      "cell_type": "code",
      "execution_count": null,
      "metadata": {},
      "outputs": [],
      "source": []
    }
  ],
  "metadata": {
    "accelerator": "GPU",
    "colab": {
      "collapsed_sections": [],
      "name": "00_pytorch_fundamentals_exercises.ipynb",
      "provenance": []
    },
    "kernelspec": {
      "display_name": "Python 3",
      "name": "python3"
    },
    "language_info": {
      "codemirror_mode": {
        "name": "ipython",
        "version": 3
      },
      "file_extension": ".py",
      "mimetype": "text/x-python",
      "name": "python",
      "nbconvert_exporter": "python",
      "pygments_lexer": "ipython3",
      "version": "3.11.0"
    }
  },
  "nbformat": 4,
  "nbformat_minor": 0
}
